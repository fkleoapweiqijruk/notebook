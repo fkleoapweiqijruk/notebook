{
 "cells": [
  {
   "cell_type": "code",
   "execution_count": 1,
   "id": "3bf5731a",
   "metadata": {},
   "outputs": [],
   "source": [
    "import sagemaker\n",
    "import boto3\n",
    "from sagemaker import image_uris\n",
    "from sagemaker.session import s3_input, Session"
   ]
  },
  {
   "cell_type": "code",
   "execution_count": 24,
   "id": "c130d17c",
   "metadata": {},
   "outputs": [
    {
     "name": "stdout",
     "output_type": "stream",
     "text": [
      "us-east-1\n"
     ]
    }
   ],
   "source": [
    "bucket_name = 'amazonsagemakerbucket'\n",
    "my_region = boto3.session.Session().region_name\n",
    "print(my_region)"
   ]
  },
  {
   "cell_type": "code",
   "execution_count": 25,
   "id": "f169b7f3",
   "metadata": {},
   "outputs": [
    {
     "name": "stdout",
     "output_type": "stream",
     "text": [
      "S3 bucket created successfully\n"
     ]
    }
   ],
   "source": [
    "s3 = boto3.resource('s3')\n",
    "try:\n",
    "    if  my_region == 'us-east-1':\n",
    "        s3.create_bucket(Bucket=bucket_name)\n",
    "    print('S3 bucket created successfully')\n",
    "except Exception as e:\n",
    "    print('S3 error: ',e)"
   ]
  },
  {
   "cell_type": "code",
   "execution_count": 26,
   "id": "306fdd83",
   "metadata": {},
   "outputs": [
    {
     "name": "stdout",
     "output_type": "stream",
     "text": [
      "s3://amazonsagemakerbucket027/xgboost-as-a-built-in-algo/output\n"
     ]
    }
   ],
   "source": [
    "# setting an output path for where the model will be saved\n",
    "prefix = 'xgboost-as-a-built-in-algo'\n",
    "output_path = 's3://{}/{}/output'.format(bucket_name, prefix)\n",
    "print(output_path)"
   ]
  },
  {
   "cell_type": "markdown",
   "id": "0401b9f7",
   "metadata": {},
   "source": [
    "### Downloading The Dataset and Storing in S3"
   ]
  },
  {
   "cell_type": "code",
   "execution_count": 27,
   "id": "480fec09",
   "metadata": {},
   "outputs": [
    {
     "name": "stdout",
     "output_type": "stream",
     "text": [
      "Success: downloaded bank_clean.csv\n",
      "Success: Data loaded into dataframe.\n"
     ]
    }
   ],
   "source": [
    "import pandas as pd\n",
    "import urllib\n",
    "try:\n",
    "    urllib.request.urlretrieve (\"https://d1.awsstatic.com/tmt/build-train-deploy-machine-learning-model-sagemaker/bank_clean.27f01fbbdf43271788427f3682996ae29ceca05d.csv\", \"bank_clean.csv\")\n",
    "    print('Success: downloaded bank_clean.csv')\n",
    "except Exception as e:\n",
    "    print('Data load error: ', e)\n",
    "    \n",
    "try:\n",
    "    model_data = pd.read_csv('./bank_clean.csv', index_col=0)\n",
    "    print('Success: Data loaded into dataframe.')\n",
    "except Exception as e:\n",
    "    print('Data load error: ', e)"
   ]
  },
  {
   "cell_type": "code",
   "execution_count": 28,
   "id": "901ebd08",
   "metadata": {},
   "outputs": [
    {
     "name": "stdout",
     "output_type": "stream",
     "text": [
      "(28831, 61) (12357, 61)\n"
     ]
    }
   ],
   "source": [
    "### Train Test split\n",
    "\n",
    "import numpy as np\n",
    "train_data, test_data = np.split(model_data.sample(frac=1, random_state=1729), [int(0.7 * len(model_data))])\n",
    "print(train_data.shape, test_data.shape)\n"
   ]
  },
  {
   "cell_type": "code",
   "execution_count": 29,
   "id": "2644c1a3",
   "metadata": {},
   "outputs": [
    {
     "name": "stdout",
     "output_type": "stream",
     "text": [
      "<sagemaker.inputs.TrainingInput object at 0x7fec325e5f00>\n"
     ]
    }
   ],
   "source": [
    "### Saving train data into s3 bucket.\n",
    "\n",
    "import os\n",
    "pd.concat([train_data['y_yes'], train_data.drop(['y_no', 'y_yes'], axis=1)], axis=1).to_csv('train.csv', index=False, header=False)\n",
    "boto3.Session().resource('s3').Bucket(bucket_name).Object(os.path.join(prefix, 'train/train.csv')).upload_file('train.csv')\n",
    "s3_input_train = sagemaker.TrainingInput(s3_data='s3://{}/{}/train'.format(bucket_name, prefix), content_type='csv')\n",
    "print(s3_input_train)"
   ]
  },
  {
   "cell_type": "code",
   "execution_count": 30,
   "id": "6905f313",
   "metadata": {},
   "outputs": [
    {
     "name": "stdout",
     "output_type": "stream",
     "text": [
      "<sagemaker.inputs.TrainingInput object at 0x7fec8bcc7ac0>\n"
     ]
    }
   ],
   "source": [
    "### Saving test data into s3 bucket.\n",
    "\n",
    "import os\n",
    "pd.concat([test_data['y_yes'], test_data.drop(['y_no', 'y_yes'], axis=1)], axis=1).to_csv('test.csv', index=False, header=False)\n",
    "boto3.Session().resource('s3').Bucket(bucket_name).Object(os.path.join(prefix, 'test/test.csv')).upload_file('test.csv')\n",
    "s3_input_test = sagemaker.TrainingInput(s3_data='s3://{}/{}/test'.format(bucket_name, prefix), content_type='csv')\n",
    "print(s3_input_test)"
   ]
  },
  {
   "cell_type": "markdown",
   "id": "b7bb81b1",
   "metadata": {},
   "source": [
    "### Building XGBoost Model"
   ]
  },
  {
   "cell_type": "code",
   "execution_count": 31,
   "id": "27bd75e1",
   "metadata": {},
   "outputs": [
    {
     "data": {
      "text/plain": [
       "'683313688378.dkr.ecr.us-east-1.amazonaws.com/sagemaker-xgboost:1.5-1'"
      ]
     },
     "execution_count": 31,
     "metadata": {},
     "output_type": "execute_result"
    }
   ],
   "source": [
    "# this line automatically looks for the XGBoost image URI and builds an XGBoost container.\n",
    "# specify the repo_version depending on your preference.\n",
    "container = image_uris.retrieve(framework='xgboost', region=boto3.Session().region_name, version='1.5-1')\n",
    "\n",
    "container"
   ]
  },
  {
   "cell_type": "code",
   "execution_count": 33,
   "id": "03f18fe4",
   "metadata": {},
   "outputs": [],
   "source": [
    "# initialize hyperparameters\n",
    "hyperparameters = {\n",
    "        \"max_depth\":\"5\",\n",
    "        \"eta\":\"0.2\",\n",
    "        \"gamma\":\"4\",\n",
    "        \"min_child_weight\":\"6\",\n",
    "        \"subsample\":\"0.7\",\n",
    "        \"objective\":\"binary:logistic\",\n",
    "        \"num_round\":50\n",
    "        }"
   ]
  },
  {
   "cell_type": "code",
   "execution_count": 34,
   "id": "dfe5b9d7",
   "metadata": {},
   "outputs": [
    {
     "name": "stderr",
     "output_type": "stream",
     "text": [
      "train_instance_count has been renamed in sagemaker>=2.\n",
      "See: https://sagemaker.readthedocs.io/en/stable/v2.html for details.\n",
      "train_instance_type has been renamed in sagemaker>=2.\n",
      "See: https://sagemaker.readthedocs.io/en/stable/v2.html for details.\n",
      "train_max_run has been renamed in sagemaker>=2.\n",
      "See: https://sagemaker.readthedocs.io/en/stable/v2.html for details.\n",
      "train_use_spot_instances has been renamed in sagemaker>=2.\n",
      "See: https://sagemaker.readthedocs.io/en/stable/v2.html for details.\n",
      "train_max_wait has been renamed in sagemaker>=2.\n",
      "See: https://sagemaker.readthedocs.io/en/stable/v2.html for details.\n",
      "train_volume_size has been renamed in sagemaker>=2.\n",
      "See: https://sagemaker.readthedocs.io/en/stable/v2.html for details.\n",
      "NOTEBOOK_METADATA_FILE detected but failed to get valid domain and user from it.\n"
     ]
    }
   ],
   "source": [
    "# construct a SageMaker estimator that calls the xgboost-container\n",
    "estimator = sagemaker.estimator.Estimator(image_uri=container, \n",
    "                                          hyperparameters=hyperparameters,\n",
    "                                          role=sagemaker.get_execution_role(),\n",
    "                                          train_instance_count=1, \n",
    "                                          train_instance_type='ml.m5.xlarge', \n",
    "                                          train_volume_size=5, # 5 GB \n",
    "                                          output_path=output_path,\n",
    "                                          train_use_spot_instances=True,\n",
    "                                          train_max_run=300,\n",
    "                                          train_max_wait=600)"
   ]
  },
  {
   "cell_type": "code",
   "execution_count": 35,
   "id": "943aca4c",
   "metadata": {
    "scrolled": true
   },
   "outputs": [
    {
     "name": "stderr",
     "output_type": "stream",
     "text": [
      "INFO:sagemaker:Creating training-job with name: sagemaker-xgboost-2023-09-29-18-30-12-109\n"
     ]
    },
    {
     "name": "stdout",
     "output_type": "stream",
     "text": [
      "2023-09-29 18:30:12 Starting - Starting the training job...\n",
      "2023-09-29 18:30:27 Starting - Preparing the instances for training............\n",
      "2023-09-29 18:32:17 Downloading - Downloading input data...\n",
      "2023-09-29 18:33:09 Training - Training image download completed. Training in progress...\u001b[34m[2023-09-29 18:33:20.328 ip-10-2-246-104.ec2.internal:7 INFO utils.py:28] RULE_JOB_STOP_SIGNAL_FILENAME: None\u001b[0m\n",
      "\u001b[34m[2023-09-29 18:33:20.401 ip-10-2-246-104.ec2.internal:7 INFO profiler_config_parser.py:111] User has disabled profiler.\u001b[0m\n",
      "\u001b[34m[2023-09-29:18:33:20:INFO] Imported framework sagemaker_xgboost_container.training\u001b[0m\n",
      "\u001b[34m[2023-09-29:18:33:20:INFO] Failed to parse hyperparameter objective value binary:logistic to Json.\u001b[0m\n",
      "\u001b[34mReturning the value itself\u001b[0m\n",
      "\u001b[34m[2023-09-29:18:33:20:INFO] No GPUs detected (normal if no gpus installed)\u001b[0m\n",
      "\u001b[34m[2023-09-29:18:33:20:INFO] Running XGBoost Sagemaker in algorithm mode\u001b[0m\n",
      "\u001b[34m[2023-09-29:18:33:20:INFO] Determined 0 GPU(s) available on the instance.\u001b[0m\n",
      "\u001b[34m[2023-09-29:18:33:20:INFO] Determined delimiter of CSV input is ','\u001b[0m\n",
      "\u001b[34m[2023-09-29:18:33:20:INFO] Determined delimiter of CSV input is ','\u001b[0m\n",
      "\u001b[34m[2023-09-29:18:33:20:INFO] files path: /opt/ml/input/data/train\u001b[0m\n",
      "\u001b[34m[2023-09-29:18:33:20:INFO] Determined delimiter of CSV input is ','\u001b[0m\n",
      "\u001b[34m[2023-09-29:18:33:20:INFO] files path: /opt/ml/input/data/validation\u001b[0m\n",
      "\u001b[34m[2023-09-29:18:33:20:INFO] Determined delimiter of CSV input is ','\u001b[0m\n",
      "\u001b[34m[2023-09-29:18:33:20:INFO] Single node training.\u001b[0m\n",
      "\u001b[34m[2023-09-29:18:33:20:INFO] Train matrix has 28831 rows and 59 columns\u001b[0m\n",
      "\u001b[34m[2023-09-29:18:33:20:INFO] Validation matrix has 12357 rows\u001b[0m\n",
      "\u001b[34m[2023-09-29 18:33:20.866 ip-10-2-246-104.ec2.internal:7 INFO json_config.py:92] Creating hook from json_config at /opt/ml/input/config/debughookconfig.json.\u001b[0m\n",
      "\u001b[34m[2023-09-29 18:33:20.867 ip-10-2-246-104.ec2.internal:7 INFO hook.py:206] tensorboard_dir has not been set for the hook. SMDebug will not be exporting tensorboard summaries.\u001b[0m\n",
      "\u001b[34m[2023-09-29 18:33:20.868 ip-10-2-246-104.ec2.internal:7 INFO hook.py:259] Saving to /opt/ml/output/tensors\u001b[0m\n",
      "\u001b[34m[2023-09-29 18:33:20.868 ip-10-2-246-104.ec2.internal:7 INFO state_store.py:77] The checkpoint config file /opt/ml/input/config/checkpointconfig.json does not exist.\u001b[0m\n",
      "\u001b[34m[2023-09-29:18:33:20:INFO] Debug hook created from config\u001b[0m\n",
      "\u001b[34m[18:33:20] WARNING: ../src/learner.cc:1115: Starting in XGBoost 1.3.0, the default evaluation metric used with the objective 'binary:logistic' was changed from 'error' to 'logloss'. Explicitly set eval_metric if you'd like to restore the old behavior.\u001b[0m\n",
      "\u001b[34m[2023-09-29 18:33:20.963 ip-10-2-246-104.ec2.internal:7 INFO hook.py:427] Monitoring the collections: metrics\u001b[0m\n",
      "\u001b[34m[2023-09-29 18:33:20.966 ip-10-2-246-104.ec2.internal:7 INFO hook.py:491] Hook is writing from the hook with pid: 7\u001b[0m\n",
      "\u001b[34m[0]#011train-logloss:0.57288#011validation-logloss:0.57386\u001b[0m\n",
      "\u001b[34m[1]#011train-logloss:0.49296#011validation-logloss:0.49483\u001b[0m\n",
      "\u001b[34m[2]#011train-logloss:0.43699#011validation-logloss:0.44017\u001b[0m\n",
      "\u001b[34m[3]#011train-logloss:0.39664#011validation-logloss:0.40048\u001b[0m\n",
      "\u001b[34m[4]#011train-logloss:0.36732#011validation-logloss:0.37209\u001b[0m\n",
      "\u001b[34m[5]#011train-logloss:0.34573#011validation-logloss:0.35146\u001b[0m\n",
      "\u001b[34m[6]#011train-logloss:0.32987#011validation-logloss:0.33640\u001b[0m\n",
      "\u001b[34m[7]#011train-logloss:0.31789#011validation-logloss:0.32478\u001b[0m\n",
      "\u001b[34m[8]#011train-logloss:0.30914#011validation-logloss:0.31663\u001b[0m\n",
      "\u001b[34m[9]#011train-logloss:0.30225#011validation-logloss:0.31044\u001b[0m\n",
      "\u001b[34m[10]#011train-logloss:0.29718#011validation-logloss:0.30609\u001b[0m\n",
      "\u001b[34m[11]#011train-logloss:0.29317#011validation-logloss:0.30271\u001b[0m\n",
      "\u001b[34m[12]#011train-logloss:0.29029#011validation-logloss:0.30029\u001b[0m\n",
      "\u001b[34m[13]#011train-logloss:0.28766#011validation-logloss:0.29825\u001b[0m\n",
      "\u001b[34m[14]#011train-logloss:0.28567#011validation-logloss:0.29661\u001b[0m\n",
      "\u001b[34m[15]#011train-logloss:0.28434#011validation-logloss:0.29565\u001b[0m\n",
      "\u001b[34m[16]#011train-logloss:0.28328#011validation-logloss:0.29466\u001b[0m\n",
      "\u001b[34m[17]#011train-logloss:0.28189#011validation-logloss:0.29366\u001b[0m\n",
      "\u001b[34m[18]#011train-logloss:0.28103#011validation-logloss:0.29344\u001b[0m\n",
      "\u001b[34m[19]#011train-logloss:0.28020#011validation-logloss:0.29296\u001b[0m\n",
      "\u001b[34m[20]#011train-logloss:0.27964#011validation-logloss:0.29269\u001b[0m\n",
      "\u001b[34m[21]#011train-logloss:0.27923#011validation-logloss:0.29267\u001b[0m\n",
      "\u001b[34m[22]#011train-logloss:0.27900#011validation-logloss:0.29280\u001b[0m\n",
      "\u001b[34m[23]#011train-logloss:0.27840#011validation-logloss:0.29242\u001b[0m\n",
      "\u001b[34m[24]#011train-logloss:0.27799#011validation-logloss:0.29234\u001b[0m\n",
      "\u001b[34m[25]#011train-logloss:0.27755#011validation-logloss:0.29206\u001b[0m\n",
      "\u001b[34m[26]#011train-logloss:0.27718#011validation-logloss:0.29196\u001b[0m\n",
      "\u001b[34m[27]#011train-logloss:0.27688#011validation-logloss:0.29192\u001b[0m\n",
      "\u001b[34m[28]#011train-logloss:0.27663#011validation-logloss:0.29183\u001b[0m\n",
      "\u001b[34m[29]#011train-logloss:0.27642#011validation-logloss:0.29160\u001b[0m\n",
      "\u001b[34m[30]#011train-logloss:0.27613#011validation-logloss:0.29140\u001b[0m\n",
      "\u001b[34m[31]#011train-logloss:0.27585#011validation-logloss:0.29134\u001b[0m\n",
      "\u001b[34m[32]#011train-logloss:0.27554#011validation-logloss:0.29136\u001b[0m\n",
      "\u001b[34m[33]#011train-logloss:0.27516#011validation-logloss:0.29135\u001b[0m\n",
      "\u001b[34m[34]#011train-logloss:0.27511#011validation-logloss:0.29132\u001b[0m\n",
      "\u001b[34m[35]#011train-logloss:0.27494#011validation-logloss:0.29133\u001b[0m\n",
      "\u001b[34m[36]#011train-logloss:0.27468#011validation-logloss:0.29143\u001b[0m\n",
      "\u001b[34m[37]#011train-logloss:0.27429#011validation-logloss:0.29122\u001b[0m\n",
      "\u001b[34m[38]#011train-logloss:0.27402#011validation-logloss:0.29117\u001b[0m\n",
      "\u001b[34m[39]#011train-logloss:0.27385#011validation-logloss:0.29128\u001b[0m\n",
      "\u001b[34m[40]#011train-logloss:0.27366#011validation-logloss:0.29118\u001b[0m\n",
      "\u001b[34m[41]#011train-logloss:0.27351#011validation-logloss:0.29117\u001b[0m\n",
      "\u001b[34m[42]#011train-logloss:0.27316#011validation-logloss:0.29111\u001b[0m\n",
      "\u001b[34m[43]#011train-logloss:0.27294#011validation-logloss:0.29095\u001b[0m\n",
      "\u001b[34m[44]#011train-logloss:0.27274#011validation-logloss:0.29102\u001b[0m\n",
      "\u001b[34m[45]#011train-logloss:0.27254#011validation-logloss:0.29094\u001b[0m\n",
      "\u001b[34m[46]#011train-logloss:0.27240#011validation-logloss:0.29085\u001b[0m\n",
      "\u001b[34m[47]#011train-logloss:0.27223#011validation-logloss:0.29084\u001b[0m\n",
      "\u001b[34m[48]#011train-logloss:0.27210#011validation-logloss:0.29078\u001b[0m\n",
      "\u001b[34m[49]#011train-logloss:0.27198#011validation-logloss:0.29069\u001b[0m\n",
      "\n",
      "2023-09-29 18:33:35 Uploading - Uploading generated training model\n",
      "2023-09-29 18:33:35 Completed - Training job completed\n",
      "Training seconds: 78\n",
      "Billable seconds: 47\n",
      "Managed Spot Training savings: 39.7%\n"
     ]
    }
   ],
   "source": [
    "estimator.fit({'train': s3_input_train,'validation': s3_input_test})"
   ]
  },
  {
   "cell_type": "markdown",
   "id": "ece3db7e",
   "metadata": {},
   "source": [
    "### Deploy Machine Learning Model"
   ]
  },
  {
   "cell_type": "code",
   "execution_count": 36,
   "id": "d33bd0f6",
   "metadata": {},
   "outputs": [
    {
     "name": "stderr",
     "output_type": "stream",
     "text": [
      "INFO:sagemaker:Creating model with name: sagemaker-xgboost-2023-09-29-18-49-16-660\n",
      "INFO:sagemaker:Creating endpoint-config with name sagemaker-xgboost-2023-09-29-18-49-16-660\n",
      "INFO:sagemaker:Creating endpoint with name sagemaker-xgboost-2023-09-29-18-49-16-660\n"
     ]
    },
    {
     "name": "stdout",
     "output_type": "stream",
     "text": [
      "------!"
     ]
    }
   ],
   "source": [
    "xgb_predictor = estimator.deploy(initial_instance_count=1,instance_type='ml.m4.xlarge')"
   ]
  },
  {
   "cell_type": "code",
   "execution_count": 37,
   "id": "1581224d",
   "metadata": {},
   "outputs": [
    {
     "name": "stdout",
     "output_type": "stream",
     "text": [
      "(12357,)\n"
     ]
    }
   ],
   "source": [
    "from sagemaker.serializers import CSVSerializer\n",
    "test_data_array = test_data.drop(['y_no', 'y_yes'], axis=1).values #load the data into an array\n",
    "xgb_predictor.serializer = CSVSerializer() # set the serializer type\n",
    "predictions = xgb_predictor.predict(test_data_array).decode('utf-8') # predict!\n",
    "predictions_array = np.fromstring(predictions[1:], sep=' ') # and turn the prediction into an array\n",
    "print(predictions_array.shape)"
   ]
  },
  {
   "cell_type": "code",
   "execution_count": 38,
   "id": "33039b4c",
   "metadata": {},
   "outputs": [
    {
     "data": {
      "text/plain": [
       "array([0.05214286, 0.05660191, 0.05096195, ..., 0.03436061, 0.02942475,\n",
       "       0.03715819])"
      ]
     },
     "execution_count": 38,
     "metadata": {},
     "output_type": "execute_result"
    }
   ],
   "source": [
    "predictions_array"
   ]
  },
  {
   "cell_type": "code",
   "execution_count": 39,
   "id": "a1c34a86",
   "metadata": {},
   "outputs": [
    {
     "name": "stdout",
     "output_type": "stream",
     "text": [
      "\n",
      "Overall Classification Rate: 89.7%\n",
      "\n",
      "Predicted      No Purchase    Purchase\n",
      "Observed\n",
      "No Purchase    91% (10785)    34% (151)\n",
      "Purchase        9% (1124)     66% (297) \n",
      "\n"
     ]
    }
   ],
   "source": [
    "cm = pd.crosstab(index=test_data['y_yes'], columns=np.round(predictions_array), rownames=['Observed'], colnames=['Predicted'])\n",
    "tn = cm.iloc[0,0]; fn = cm.iloc[1,0]; tp = cm.iloc[1,1]; fp = cm.iloc[0,1]; p = (tp+tn)/(tp+tn+fp+fn)*100\n",
    "print(\"\\n{0:<20}{1:<4.1f}%\\n\".format(\"Overall Classification Rate: \", p))\n",
    "print(\"{0:<15}{1:<15}{2:>8}\".format(\"Predicted\", \"No Purchase\", \"Purchase\"))\n",
    "print(\"Observed\")\n",
    "print(\"{0:<15}{1:<2.0f}% ({2:<}){3:>6.0f}% ({4:<})\".format(\"No Purchase\", tn/(tn+fn)*100,tn, fp/(tp+fp)*100, fp))\n",
    "print(\"{0:<16}{1:<1.0f}% ({2:<}){3:>7.0f}% ({4:<}) \\n\".format(\"Purchase\", fn/(tn+fn)*100,fn, tp/(tp+fp)*100, tp))\n"
   ]
  },
  {
   "cell_type": "code",
   "execution_count": 40,
   "id": "bb20b622",
   "metadata": {},
   "outputs": [
    {
     "name": "stderr",
     "output_type": "stream",
     "text": [
      "WARNING:sagemaker.deprecations:The endpoint attribute has been renamed in sagemaker>=2.\n",
      "See: https://sagemaker.readthedocs.io/en/stable/v2.html for details.\n",
      "INFO:sagemaker:Deleting endpoint with name: sagemaker-xgboost-2023-09-29-18-49-16-660\n"
     ]
    }
   ],
   "source": [
    "sagemaker.Session().delete_endpoint(xgb_predictor.endpoint)"
   ]
  },
  {
   "cell_type": "code",
   "execution_count": null,
   "id": "61e2db81",
   "metadata": {},
   "outputs": [],
   "source": [
    " 29,  2,  3,  1,  0,  0,  1,  0,  0,  0,  0,  0,  0,  0,  0,  0,  0, 0,  0,  0,  1,  0,  0,  0,  0,  1,  0,  0,  0,  0,  1,  0,  0,  0, 0,  1,  1,  0,  0,  1,  0,  0,  0,  0,  0,  0,  0,  0,  0,  0,  1, 0,  0,  0,  1,  0,  0,  0,  1"
   ]
  }
 ],
 "metadata": {
  "kernelspec": {
   "display_name": "conda_python3",
   "language": "python",
   "name": "conda_python3"
  },
  "language_info": {
   "codemirror_mode": {
    "name": "ipython",
    "version": 3
   },
   "file_extension": ".py",
   "mimetype": "text/x-python",
   "name": "python",
   "nbconvert_exporter": "python",
   "pygments_lexer": "ipython3",
   "version": "3.10.12"
  }
 },
 "nbformat": 4,
 "nbformat_minor": 5
}
