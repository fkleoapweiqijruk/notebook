{
  "cells": [
    {
      "cell_type": "markdown",
      "id": "8336da7d",
      "metadata": {
        "id": "8336da7d"
      },
      "source": [
        "## Train Deep Learning Model"
      ]
    },
    {
      "cell_type": "markdown",
      "id": "50227054",
      "metadata": {
        "id": "50227054"
      },
      "source": [
        "### step-1 load the preprocess data"
      ]
    },
    {
      "cell_type": "code",
      "execution_count": null,
      "id": "a311b6b3",
      "metadata": {
        "colab": {
          "base_uri": "https://localhost:8080/"
        },
        "id": "a311b6b3",
        "outputId": "a05c9bf0-707e-456e-ee6a-6e2c1677bf94"
      },
      "outputs": [
        {
          "output_type": "stream",
          "name": "stdout",
          "text": [
            "Mounted at /content/drive\n"
          ]
        }
      ],
      "source": [
        "import os\n",
        "import numpy as np\n",
        "import cv2\n",
        "import gc\n",
        "\n",
        "from google.colab import drive\n",
        "drive.mount('/content/drive')"
      ]
    },
    {
      "cell_type": "code",
      "execution_count": null,
      "id": "c5c4bde5",
      "metadata": {
        "id": "c5c4bde5"
      },
      "outputs": [],
      "source": [
        "# load the preprocessed data\n",
        "data = np.load('/content/drive/MyDrive/2_face_recognition_model/data/data_preprocess.npz')"
      ]
    },
    {
      "cell_type": "code",
      "execution_count": null,
      "id": "949e8123",
      "metadata": {
        "id": "949e8123"
      },
      "outputs": [],
      "source": [
        "X = data['arr_0']\n",
        "y = data['arr_1']"
      ]
    },
    {
      "cell_type": "code",
      "execution_count": null,
      "id": "8e4558e4",
      "metadata": {
        "colab": {
          "base_uri": "https://localhost:8080/"
        },
        "id": "8e4558e4",
        "outputId": "65a6f003-264a-451c-a7db-ca371c6c50bb"
      },
      "outputs": [
        {
          "output_type": "execute_result",
          "data": {
            "text/plain": [
              "((9959, 100, 100, 3), (9959,))"
            ]
          },
          "metadata": {},
          "execution_count": 4
        }
      ],
      "source": [
        "X.shape, y.shape"
      ]
    },
    {
      "cell_type": "markdown",
      "id": "3bf84e28",
      "metadata": {
        "id": "3bf84e28"
      },
      "source": [
        "### Preprocessing \"y\""
      ]
    },
    {
      "cell_type": "code",
      "execution_count": null,
      "id": "d704e6ac",
      "metadata": {
        "colab": {
          "base_uri": "https://localhost:8080/"
        },
        "id": "d704e6ac",
        "outputId": "74dcf315-df17-479b-93c4-672cd71aca2b"
      },
      "outputs": [
        {
          "output_type": "execute_result",
          "data": {
            "text/plain": [
              "array(['Mask', 'Mask_Chin', 'Mask_Mouth_Chin', 'Mask_Nose_Mouth'],\n",
              "      dtype='<U15')"
            ]
          },
          "metadata": {},
          "execution_count": 5
        }
      ],
      "source": [
        "np.unique(y)"
      ]
    },
    {
      "cell_type": "code",
      "execution_count": null,
      "id": "bc63d572",
      "metadata": {
        "id": "bc63d572"
      },
      "outputs": [],
      "source": [
        "from sklearn.preprocessing import OneHotEncoder"
      ]
    },
    {
      "cell_type": "code",
      "execution_count": null,
      "id": "dd8951e8",
      "metadata": {
        "id": "dd8951e8"
      },
      "outputs": [],
      "source": [
        "onehot = OneHotEncoder()\n",
        "y_onehot = onehot.fit_transform(y.reshape(-1,1))"
      ]
    },
    {
      "cell_type": "code",
      "execution_count": null,
      "id": "ca569741",
      "metadata": {
        "id": "ca569741"
      },
      "outputs": [],
      "source": [
        "y_array = y_onehot.toarray()"
      ]
    },
    {
      "cell_type": "markdown",
      "id": "08798255",
      "metadata": {
        "id": "08798255"
      },
      "source": [
        "### Split the Data into Train and Test sets"
      ]
    },
    {
      "cell_type": "code",
      "execution_count": null,
      "id": "eea32408",
      "metadata": {
        "id": "eea32408"
      },
      "outputs": [],
      "source": [
        "from sklearn.model_selection import train_test_split\n",
        "x_train, x_test, y_train, y_test = train_test_split(X,y_array,test_size=0.2,random_state=42)"
      ]
    },
    {
      "cell_type": "code",
      "execution_count": null,
      "id": "40129ec5",
      "metadata": {
        "colab": {
          "base_uri": "https://localhost:8080/"
        },
        "id": "40129ec5",
        "outputId": "afe86aae-d781-4c86-e2f5-7c88351a26e0"
      },
      "outputs": [
        {
          "output_type": "execute_result",
          "data": {
            "text/plain": [
              "((7967, 100, 100, 3), (1992, 100, 100, 3), (7967, 4), (1992, 4))"
            ]
          },
          "metadata": {},
          "execution_count": 10
        }
      ],
      "source": [
        "x_train.shape, x_test.shape, y_train.shape, y_test.shape"
      ]
    },
    {
      "cell_type": "markdown",
      "id": "1f9b4293",
      "metadata": {
        "id": "1f9b4293"
      },
      "source": [
        "### Deep Learning Model"
      ]
    },
    {
      "cell_type": "markdown",
      "id": "4dd7c71f",
      "metadata": {
        "id": "4dd7c71f"
      },
      "source": [
        "![cnn](cnn.png)"
      ]
    },
    {
      "cell_type": "code",
      "execution_count": null,
      "id": "ec3197eb",
      "metadata": {
        "id": "ec3197eb",
        "outputId": "6dc09448-db8b-47d6-f12a-5b0d027bb922"
      },
      "outputs": [
        {
          "data": {
            "text/plain": [
              "array([[0., 0., 1., 0.],\n",
              "       [0., 0., 0., 1.],\n",
              "       [0., 0., 0., 1.],\n",
              "       ...,\n",
              "       [0., 0., 1., 0.],\n",
              "       [1., 0., 0., 0.],\n",
              "       [0., 0., 1., 0.]])"
            ]
          },
          "execution_count": 11,
          "metadata": {},
          "output_type": "execute_result"
        }
      ],
      "source": [
        "y_train"
      ]
    },
    {
      "cell_type": "code",
      "execution_count": null,
      "id": "05ad97c2",
      "metadata": {
        "id": "05ad97c2"
      },
      "outputs": [],
      "source": [
        "cv2.imshow('a',x_train[-2])\n",
        "cv2.waitKey()\n",
        "cv2.destroyAllWindows()"
      ]
    },
    {
      "cell_type": "code",
      "execution_count": null,
      "id": "309cbc21",
      "metadata": {
        "id": "309cbc21"
      },
      "outputs": [],
      "source": [
        "import tensorflow as tf\n",
        "from tensorflow.keras import layers\n",
        "from tensorflow.keras import Sequential"
      ]
    },
    {
      "cell_type": "code",
      "execution_count": null,
      "id": "bfc34898",
      "metadata": {
        "id": "bfc34898"
      },
      "outputs": [],
      "source": [
        "# convolution neural network\n",
        "\n",
        "model = Sequential([\n",
        "    layers.Conv2D(16,3,padding='same',input_shape=(100,100,3),activation='relu'),\n",
        "    layers.MaxPool2D(),\n",
        "    layers.Conv2D(32,3,padding='same',activation='relu'),\n",
        "    layers.MaxPool2D(),\n",
        "    layers.Conv2D(64,3,padding='same',activation='relu'),\n",
        "    layers.MaxPool2D(),\n",
        "    layers.Flatten(),\n",
        "    layers.Dense(192,activation='relu'),\n",
        "    layers.Dense(28,activation='relu'),\n",
        "    layers.Dense(4,activation='sigmoid')\n",
        "])\n",
        "\n",
        "\n",
        "# compiling CNN\n",
        "model.compile(optimizer=tf.keras.optimizers.Adam(learning_rate=0.001),\n",
        "              loss=tf.keras.losses.categorical_crossentropy,metrics=['accuracy'])"
      ]
    },
    {
      "cell_type": "code",
      "execution_count": null,
      "id": "6a67e474",
      "metadata": {
        "id": "6a67e474",
        "outputId": "a281565a-168f-4688-e701-36c0bde327bb"
      },
      "outputs": [
        {
          "name": "stdout",
          "output_type": "stream",
          "text": [
            "Model: \"sequential\"\n",
            "_________________________________________________________________\n",
            "Layer (type)                 Output Shape              Param #   \n",
            "=================================================================\n",
            "conv2d (Conv2D)              (None, 100, 100, 16)      448       \n",
            "_________________________________________________________________\n",
            "max_pooling2d (MaxPooling2D) (None, 50, 50, 16)        0         \n",
            "_________________________________________________________________\n",
            "conv2d_1 (Conv2D)            (None, 50, 50, 32)        4640      \n",
            "_________________________________________________________________\n",
            "max_pooling2d_1 (MaxPooling2 (None, 25, 25, 32)        0         \n",
            "_________________________________________________________________\n",
            "conv2d_2 (Conv2D)            (None, 25, 25, 64)        18496     \n",
            "_________________________________________________________________\n",
            "max_pooling2d_2 (MaxPooling2 (None, 12, 12, 64)        0         \n",
            "_________________________________________________________________\n",
            "flatten (Flatten)            (None, 9216)              0         \n",
            "_________________________________________________________________\n",
            "dense (Dense)                (None, 192)               1769664   \n",
            "_________________________________________________________________\n",
            "dense_1 (Dense)              (None, 28)                5404      \n",
            "_________________________________________________________________\n",
            "dense_2 (Dense)              (None, 4)                 116       \n",
            "=================================================================\n",
            "Total params: 1,798,768\n",
            "Trainable params: 1,798,768\n",
            "Non-trainable params: 0\n",
            "_________________________________________________________________\n"
          ]
        }
      ],
      "source": [
        "model.summary()"
      ]
    },
    {
      "cell_type": "code",
      "execution_count": null,
      "id": "4c85f95b",
      "metadata": {
        "id": "4c85f95b",
        "outputId": "74589699-a352-4fc3-f00d-783266d78f46"
      },
      "outputs": [
        {
          "name": "stdout",
          "output_type": "stream",
          "text": [
            "Epoch 1/20\n",
            "266/266 [==============================] - 42s 158ms/step - loss: 0.2220 - accuracy: 0.9202 - val_loss: 0.0755 - val_accuracy: 0.9764\n",
            "Epoch 2/20\n",
            "266/266 [==============================] - 36s 136ms/step - loss: 0.0751 - accuracy: 0.9741 - val_loss: 0.0683 - val_accuracy: 0.9809\n",
            "Epoch 3/20\n",
            "266/266 [==============================] - 39s 146ms/step - loss: 0.0401 - accuracy: 0.9872 - val_loss: 0.0850 - val_accuracy: 0.9749\n",
            "Epoch 4/20\n",
            "266/266 [==============================] - 42s 157ms/step - loss: 0.0342 - accuracy: 0.9892 - val_loss: 0.0693 - val_accuracy: 0.9804\n",
            "Epoch 5/20\n",
            "266/266 [==============================] - 38s 143ms/step - loss: 0.0216 - accuracy: 0.9925 - val_loss: 0.0692 - val_accuracy: 0.9774\n",
            "Epoch 6/20\n",
            "266/266 [==============================] - 40s 152ms/step - loss: 0.0127 - accuracy: 0.9960 - val_loss: 0.0523 - val_accuracy: 0.9844\n",
            "Epoch 7/20\n",
            "266/266 [==============================] - 38s 144ms/step - loss: 0.0145 - accuracy: 0.9946 - val_loss: 0.0671 - val_accuracy: 0.9789\n",
            "Epoch 8/20\n",
            "266/266 [==============================] - 38s 143ms/step - loss: 0.0166 - accuracy: 0.9942 - val_loss: 0.0624 - val_accuracy: 0.9824\n",
            "Epoch 9/20\n",
            "266/266 [==============================] - 41s 153ms/step - loss: 0.0069 - accuracy: 0.9970 - val_loss: 0.0819 - val_accuracy: 0.9834\n",
            "Epoch 10/20\n",
            "266/266 [==============================] - 43s 161ms/step - loss: 0.0156 - accuracy: 0.9950 - val_loss: 0.0458 - val_accuracy: 0.9885\n",
            "Epoch 11/20\n",
            "266/266 [==============================] - 38s 144ms/step - loss: 0.0100 - accuracy: 0.9957 - val_loss: 0.0652 - val_accuracy: 0.9900\n",
            "Epoch 12/20\n",
            "266/266 [==============================] - 38s 143ms/step - loss: 0.0110 - accuracy: 0.9966 - val_loss: 0.0820 - val_accuracy: 0.9859\n",
            "Epoch 13/20\n",
            "266/266 [==============================] - 38s 143ms/step - loss: 5.6175e-04 - accuracy: 1.0000 - val_loss: 0.0507 - val_accuracy: 0.9900\n",
            "Epoch 14/20\n",
            "266/266 [==============================] - 38s 143ms/step - loss: 9.9415e-05 - accuracy: 1.0000 - val_loss: 0.0638 - val_accuracy: 0.9895\n",
            "Epoch 15/20\n",
            "266/266 [==============================] - 39s 146ms/step - loss: 3.9399e-05 - accuracy: 1.0000 - val_loss: 0.0600 - val_accuracy: 0.9900\n",
            "Epoch 16/20\n",
            "266/266 [==============================] - 38s 142ms/step - loss: 2.5390e-05 - accuracy: 1.0000 - val_loss: 0.0627 - val_accuracy: 0.9900\n",
            "Epoch 17/20\n",
            "266/266 [==============================] - 42s 158ms/step - loss: 1.8972e-05 - accuracy: 1.0000 - val_loss: 0.0649 - val_accuracy: 0.9900\n",
            "Epoch 18/20\n",
            "266/266 [==============================] - 40s 150ms/step - loss: 1.4720e-05 - accuracy: 1.0000 - val_loss: 0.0666 - val_accuracy: 0.9900\n",
            "Epoch 19/20\n",
            "266/266 [==============================] - 39s 146ms/step - loss: 1.1695e-05 - accuracy: 1.0000 - val_loss: 0.0684 - val_accuracy: 0.9900\n",
            "Epoch 20/20\n",
            "266/266 [==============================] - 38s 143ms/step - loss: 9.4511e-06 - accuracy: 1.0000 - val_loss: 0.0694 - val_accuracy: 0.9900\n"
          ]
        }
      ],
      "source": [
        "# Training CNN\n",
        "history = model.fit(x=x_train,y=y_train,validation_data=(x_test,y_test),batch_size=30,epochs=20)"
      ]
    },
    {
      "cell_type": "code",
      "execution_count": null,
      "id": "7f17d44e",
      "metadata": {
        "id": "7f17d44e",
        "outputId": "d1e94ee9-ae5c-41a4-a2d9-9763cf2e0df3"
      },
      "outputs": [
        {
          "data": {
            "image/png": "[encoded data removed]",
            "text/plain": [
              "<Figure size 432x288 with 1 Axes>"
            ]
          },
          "metadata": {
            "needs_background": "light"
          },
          "output_type": "display_data"
        },
        {
          "data": {
            "image/png": "[encoded data removed]",
            "text/plain": [
              "<Figure size 432x288 with 1 Axes>"
            ]
          },
          "metadata": {
            "needs_background": "light"
          },
          "output_type": "display_data"
        }
      ],
      "source": [
        "import pandas as pd\n",
        "import matplotlib.pyplot as plt\n",
        "\n",
        "history_df = pd.DataFrame(history.history)\n",
        "\n",
        "history_df\n",
        "\n",
        "history_df[['loss','val_loss']].plot(kind='line')\n",
        "plt.xlabel('Epochs')\n",
        "plt.ylabel('Loss')\n",
        "plt.xticks(list(range(10)),list(range(1,11)))\n",
        "plt.show()\n",
        "\n",
        "history_df[['accuracy','val_accuracy']].plot(kind='line')\n",
        "plt.xlabel('Epochs')\n",
        "plt.ylabel('Accuracy')\n",
        "plt.xticks(list(range(10)),list(range(1,11)))\n",
        "plt.show()\n",
        "\n"
      ]
    },
    {
      "cell_type": "code",
      "execution_count": null,
      "id": "7f038576",
      "metadata": {
        "id": "7f038576"
      },
      "outputs": [],
      "source": []
    },
    {
      "cell_type": "code",
      "execution_count": null,
      "id": "f2644c9d",
      "metadata": {
        "id": "f2644c9d",
        "outputId": "4abb039f-6881-4074-a52b-8460498367d3"
      },
      "outputs": [
        {
          "name": "stdout",
          "output_type": "stream",
          "text": [
            "INFO:tensorflow:Assets written to: face_cnn_model\\assets\n"
          ]
        }
      ],
      "source": [
        "# Save CNN Model\n",
        "model.save('face_cnn_model')\n",
        "\n"
      ]
    },
    {
      "cell_type": "code",
      "execution_count": null,
      "id": "83494eff",
      "metadata": {
        "id": "83494eff"
      },
      "outputs": [],
      "source": [
        "onehot.categories_"
      ]
    },
    {
      "cell_type": "code",
      "execution_count": null,
      "id": "d6ece01a",
      "metadata": {
        "id": "d6ece01a"
      },
      "outputs": [],
      "source": []
    },
    {
      "cell_type": "code",
      "execution_count": null,
      "id": "185f5885",
      "metadata": {
        "id": "185f5885"
      },
      "outputs": [],
      "source": []
    },
    {
      "cell_type": "code",
      "execution_count": null,
      "id": "9c6d7add",
      "metadata": {
        "id": "9c6d7add"
      },
      "outputs": [],
      "source": []
    },
    {
      "cell_type": "code",
      "execution_count": null,
      "id": "7b1bcda5",
      "metadata": {
        "id": "7b1bcda5"
      },
      "outputs": [],
      "source": []
    },
    {
      "cell_type": "code",
      "execution_count": null,
      "id": "6b348f51",
      "metadata": {
        "id": "6b348f51"
      },
      "outputs": [],
      "source": []
    },
    {
      "cell_type": "code",
      "execution_count": null,
      "id": "273f6fd1",
      "metadata": {
        "id": "273f6fd1"
      },
      "outputs": [],
      "source": []
    },
    {
      "cell_type": "code",
      "execution_count": null,
      "id": "0884d278",
      "metadata": {
        "id": "0884d278"
      },
      "outputs": [],
      "source": []
    },
    {
      "cell_type": "code",
      "execution_count": null,
      "id": "3518eac8",
      "metadata": {
        "id": "3518eac8"
      },
      "outputs": [],
      "source": [
        "import pandas as pd\n",
        "import matplotlib.pyplot as plt"
      ]
    },
    {
      "cell_type": "code",
      "execution_count": null,
      "id": "07b89079",
      "metadata": {
        "id": "07b89079"
      },
      "outputs": [],
      "source": [
        "history_df = pd.DataFrame(history.history)"
      ]
    },
    {
      "cell_type": "code",
      "execution_count": null,
      "id": "2f7eddcf",
      "metadata": {
        "id": "2f7eddcf"
      },
      "outputs": [],
      "source": [
        "history_df"
      ]
    },
    {
      "cell_type": "code",
      "execution_count": null,
      "id": "9fa0aead",
      "metadata": {
        "id": "9fa0aead"
      },
      "outputs": [],
      "source": [
        "history_df[['loss','val_loss']].plot(kind='line')\n",
        "plt.xlabel('Epochs')\n",
        "plt.ylabel('Loss')\n",
        "plt.xticks(list(range(10)),list(range(1,11)))\n",
        "plt.show()"
      ]
    },
    {
      "cell_type": "code",
      "execution_count": null,
      "id": "1b733294",
      "metadata": {
        "id": "1b733294"
      },
      "outputs": [],
      "source": [
        "history_df[['accuracy','val_accuracy']].plot(kind='line')\n",
        "plt.xlabel('Epochs')\n",
        "plt.ylabel('Accuracy')\n",
        "plt.xticks(list(range(10)),list(range(1,11)))\n",
        "plt.show()"
      ]
    },
    {
      "cell_type": "code",
      "execution_count": null,
      "id": "6365b96c",
      "metadata": {
        "id": "6365b96c"
      },
      "outputs": [],
      "source": [
        "# Save CNN Model\n",
        "model.save('face_cnn_model')"
      ]
    },
    {
      "cell_type": "code",
      "execution_count": null,
      "id": "7bfff713",
      "metadata": {
        "id": "7bfff713"
      },
      "outputs": [],
      "source": [
        "onehot.categories_"
      ]
    },
    {
      "cell_type": "code",
      "execution_count": null,
      "id": "81ee1689",
      "metadata": {
        "id": "81ee1689"
      },
      "outputs": [],
      "source": []
    },
    {
      "cell_type": "code",
      "execution_count": null,
      "id": "b9a4a0b1",
      "metadata": {
        "id": "b9a4a0b1"
      },
      "outputs": [],
      "source": []
    },
    {
      "cell_type": "code",
      "execution_count": null,
      "id": "643fe848",
      "metadata": {
        "id": "643fe848"
      },
      "outputs": [],
      "source": []
    }
  ],
  "metadata": {
    "kernelspec": {
      "display_name": "Python 3 (ipykernel)",
      "language": "python",
      "name": "python3"
    },
    "language_info": {
      "codemirror_mode": {
        "name": "ipython",
        "version": 3
      },
      "file_extension": ".py",
      "mimetype": "text/x-python",
      "name": "python",
      "nbconvert_exporter": "python",
      "pygments_lexer": "ipython3",
      "version": "3.9.6"
    },
    "colab": {
      "provenance": []
    }
  },
  "nbformat": 4,
  "nbformat_minor": 5
}